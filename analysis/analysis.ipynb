{
 "cells": [
  {
   "cell_type": "markdown",
   "id": "fc7a7e4f",
   "metadata": {},
   "source": [
    "# Explore & Clean the Data"
   ]
  },
  {
   "cell_type": "code",
   "execution_count": 1,
   "id": "2da3e364",
   "metadata": {},
   "outputs": [],
   "source": [
    "import glob \n",
    "import pandas as pd\n",
    "import uuid"
   ]
  },
  {
   "cell_type": "code",
   "execution_count": 2,
   "id": "a5a949fa",
   "metadata": {},
   "outputs": [],
   "source": [
    "# Get a list of all CSV files in the specified directory\n",
    "files = glob.glob(\"../data/JC-2016*.csv\")\n",
    "# Read all files and concatenate them into a single DataFrame\n",
    "df_list = list()\n",
    "# Loop through each file and read it into a DataFrame\n",
    "for file in files:\n",
    "    try:\n",
    "        temp_df = pd.read_csv(file)\n",
    "        df_list.append(temp_df)\n",
    "    except pd.errors.EmptyDataError:\n",
    "        print(f'File {file} is empty and will be skipped.')\n",
    "\n",
    "# Concatenate all DataFrames into a single DataFrame\n",
    "citibike_df = pd.concat(df_list, ignore_index=True)"
   ]
  },
  {
   "cell_type": "code",
   "execution_count": 3,
   "id": "a2158eea",
   "metadata": {},
   "outputs": [
    {
     "name": "stdout",
     "output_type": "stream",
     "text": [
      "Number of rows in the DataFrame: 247584\n",
      "Number of columns in the DataFrame: 15\n"
     ]
    }
   ],
   "source": [
    "print(f\"Number of rows in the DataFrame: {citibike_df.shape[0]}\\nNumber of columns in the DataFrame: {citibike_df.shape[1]}\")"
   ]
  },
  {
   "cell_type": "code",
   "execution_count": 4,
   "id": "769c4ef9",
   "metadata": {},
   "outputs": [
    {
     "data": {
      "application/vnd.microsoft.datawrangler.viewer.v0+json": {
       "columns": [
        {
         "name": "index",
         "rawType": "object",
         "type": "string"
        },
        {
         "name": "attribute",
         "rawType": "object",
         "type": "string"
        },
        {
         "name": "null_values",
         "rawType": "int64",
         "type": "integer"
        },
        {
         "name": "number_of_rows",
         "rawType": "int64",
         "type": "integer"
        },
        {
         "name": "data_type",
         "rawType": "object",
         "type": "unknown"
        },
        {
         "name": "unique_values",
         "rawType": "int64",
         "type": "integer"
        },
        {
         "name": "sample_values",
         "rawType": "object",
         "type": "unknown"
        }
       ],
       "ref": "3afba8d6-429d-4cdd-9228-8e19e2e74ecd",
       "rows": [
        [
         "Trip Duration",
         "Trip Duration",
         "0",
         "247584",
         "int64",
         "6024",
         "[362 200 202 248 903]"
        ],
        [
         "Start Time",
         "Start Time",
         "0",
         "247584",
         "object",
         "244407",
         "['2016-01-01 00:02:52' '2016-01-01 00:18:22' '2016-01-01 00:18:25'\n '2016-01-01 00:23:13' '2016-01-01 01:03:20']"
        ],
        [
         "Stop Time",
         "Stop Time",
         "0",
         "247584",
         "object",
         "244137",
         "['2016-01-01 00:08:54' '2016-01-01 00:21:42' '2016-01-01 00:21:47'\n '2016-01-01 00:27:21' '2016-01-01 01:18:24']"
        ],
        [
         "Start Station ID",
         "Start Station ID",
         "0",
         "247584",
         "int64",
         "51",
         "[3186 3209 3195 3211 3187]"
        ],
        [
         "Start Station Name",
         "Start Station Name",
         "0",
         "247584",
         "object",
         "51",
         "['Grove St PATH' 'Brunswick St' 'Sip Ave' 'Newark Ave' 'Warren St']"
        ],
        [
         "Start Station Latitude",
         "Start Station Latitude",
         "0",
         "247584",
         "float64",
         "51",
         "[40.71958612 40.7241765  40.73074263 40.72152515 40.7211236 ]"
        ],
        [
         "Start Station Longitude",
         "Start Station Longitude",
         "0",
         "247584",
         "float64",
         "51",
         "[-74.04311746 -74.0506564  -74.06378388 -74.04630454 -74.03805095]"
        ],
        [
         "End Station ID",
         "End Station ID",
         "0",
         "247584",
         "int64",
         "102",
         "[3209 3213 3203 3210 3214]"
        ],
        [
         "End Station Name",
         "End Station Name",
         "0",
         "247584",
         "object",
         "102",
         "['Brunswick St' 'Van Vorst Park' 'Hamilton Park' 'Pershing Field'\n 'Essex Light Rail']"
        ],
        [
         "End Station Latitude",
         "End Station Latitude",
         "0",
         "247584",
         "float64",
         "102",
         "[40.7241765  40.71848892 40.72759597 40.74267714 40.7127742 ]"
        ],
        [
         "End Station Longitude",
         "End Station Longitude",
         "0",
         "247584",
         "float64",
         "102",
         "[-74.0506564  -74.04772662 -74.04424731 -74.05178863 -74.0364857 ]"
        ],
        [
         "Bike ID",
         "Bike ID",
         "0",
         "247584",
         "int64",
         "566",
         "[24647 24605 24689 24693 24573]"
        ],
        [
         "User Type",
         "User Type",
         "380",
         "247584",
         "object",
         "2",
         "['Subscriber' 'Customer']"
        ],
        [
         "Birth Year",
         "Birth Year",
         "18999",
         "247584",
         "float64",
         "64",
         "[1964. 1962. 1984. 1988. 1980.]"
        ],
        [
         "Gender",
         "Gender",
         "0",
         "247584",
         "int64",
         "3",
         "[2 1 0]"
        ]
       ],
       "shape": {
        "columns": 6,
        "rows": 15
       }
      },
      "text/html": [
       "<div>\n",
       "<style scoped>\n",
       "    .dataframe tbody tr th:only-of-type {\n",
       "        vertical-align: middle;\n",
       "    }\n",
       "\n",
       "    .dataframe tbody tr th {\n",
       "        vertical-align: top;\n",
       "    }\n",
       "\n",
       "    .dataframe thead th {\n",
       "        text-align: right;\n",
       "    }\n",
       "</style>\n",
       "<table border=\"1\" class=\"dataframe\">\n",
       "  <thead>\n",
       "    <tr style=\"text-align: right;\">\n",
       "      <th></th>\n",
       "      <th>attribute</th>\n",
       "      <th>null_values</th>\n",
       "      <th>number_of_rows</th>\n",
       "      <th>data_type</th>\n",
       "      <th>unique_values</th>\n",
       "      <th>sample_values</th>\n",
       "    </tr>\n",
       "  </thead>\n",
       "  <tbody>\n",
       "    <tr>\n",
       "      <th>Trip Duration</th>\n",
       "      <td>Trip Duration</td>\n",
       "      <td>0</td>\n",
       "      <td>247584</td>\n",
       "      <td>int64</td>\n",
       "      <td>6024</td>\n",
       "      <td>[362, 200, 202, 248, 903]</td>\n",
       "    </tr>\n",
       "    <tr>\n",
       "      <th>Start Time</th>\n",
       "      <td>Start Time</td>\n",
       "      <td>0</td>\n",
       "      <td>247584</td>\n",
       "      <td>object</td>\n",
       "      <td>244407</td>\n",
       "      <td>[2016-01-01 00:02:52, 2016-01-01 00:18:22, 201...</td>\n",
       "    </tr>\n",
       "    <tr>\n",
       "      <th>Stop Time</th>\n",
       "      <td>Stop Time</td>\n",
       "      <td>0</td>\n",
       "      <td>247584</td>\n",
       "      <td>object</td>\n",
       "      <td>244137</td>\n",
       "      <td>[2016-01-01 00:08:54, 2016-01-01 00:21:42, 201...</td>\n",
       "    </tr>\n",
       "    <tr>\n",
       "      <th>Start Station ID</th>\n",
       "      <td>Start Station ID</td>\n",
       "      <td>0</td>\n",
       "      <td>247584</td>\n",
       "      <td>int64</td>\n",
       "      <td>51</td>\n",
       "      <td>[3186, 3209, 3195, 3211, 3187]</td>\n",
       "    </tr>\n",
       "    <tr>\n",
       "      <th>Start Station Name</th>\n",
       "      <td>Start Station Name</td>\n",
       "      <td>0</td>\n",
       "      <td>247584</td>\n",
       "      <td>object</td>\n",
       "      <td>51</td>\n",
       "      <td>[Grove St PATH, Brunswick St, Sip Ave, Newark ...</td>\n",
       "    </tr>\n",
       "    <tr>\n",
       "      <th>Start Station Latitude</th>\n",
       "      <td>Start Station Latitude</td>\n",
       "      <td>0</td>\n",
       "      <td>247584</td>\n",
       "      <td>float64</td>\n",
       "      <td>51</td>\n",
       "      <td>[40.71958611647166, 40.7241765, 40.73074262530...</td>\n",
       "    </tr>\n",
       "    <tr>\n",
       "      <th>Start Station Longitude</th>\n",
       "      <td>Start Station Longitude</td>\n",
       "      <td>0</td>\n",
       "      <td>247584</td>\n",
       "      <td>float64</td>\n",
       "      <td>51</td>\n",
       "      <td>[-74.04311746358871, -74.0506564, -74.06378388...</td>\n",
       "    </tr>\n",
       "    <tr>\n",
       "      <th>End Station ID</th>\n",
       "      <td>End Station ID</td>\n",
       "      <td>0</td>\n",
       "      <td>247584</td>\n",
       "      <td>int64</td>\n",
       "      <td>102</td>\n",
       "      <td>[3209, 3213, 3203, 3210, 3214]</td>\n",
       "    </tr>\n",
       "    <tr>\n",
       "      <th>End Station Name</th>\n",
       "      <td>End Station Name</td>\n",
       "      <td>0</td>\n",
       "      <td>247584</td>\n",
       "      <td>object</td>\n",
       "      <td>102</td>\n",
       "      <td>[Brunswick St, Van Vorst Park, Hamilton Park, ...</td>\n",
       "    </tr>\n",
       "    <tr>\n",
       "      <th>End Station Latitude</th>\n",
       "      <td>End Station Latitude</td>\n",
       "      <td>0</td>\n",
       "      <td>247584</td>\n",
       "      <td>float64</td>\n",
       "      <td>102</td>\n",
       "      <td>[40.7241765, 40.71848892, 40.727595966, 40.742...</td>\n",
       "    </tr>\n",
       "    <tr>\n",
       "      <th>End Station Longitude</th>\n",
       "      <td>End Station Longitude</td>\n",
       "      <td>0</td>\n",
       "      <td>247584</td>\n",
       "      <td>float64</td>\n",
       "      <td>102</td>\n",
       "      <td>[-74.0506564, -74.047726625, -74.044247311, -7...</td>\n",
       "    </tr>\n",
       "    <tr>\n",
       "      <th>Bike ID</th>\n",
       "      <td>Bike ID</td>\n",
       "      <td>0</td>\n",
       "      <td>247584</td>\n",
       "      <td>int64</td>\n",
       "      <td>566</td>\n",
       "      <td>[24647, 24605, 24689, 24693, 24573]</td>\n",
       "    </tr>\n",
       "    <tr>\n",
       "      <th>User Type</th>\n",
       "      <td>User Type</td>\n",
       "      <td>380</td>\n",
       "      <td>247584</td>\n",
       "      <td>object</td>\n",
       "      <td>2</td>\n",
       "      <td>[Subscriber, Customer]</td>\n",
       "    </tr>\n",
       "    <tr>\n",
       "      <th>Birth Year</th>\n",
       "      <td>Birth Year</td>\n",
       "      <td>18999</td>\n",
       "      <td>247584</td>\n",
       "      <td>float64</td>\n",
       "      <td>64</td>\n",
       "      <td>[1964.0, 1962.0, 1984.0, 1988.0, 1980.0]</td>\n",
       "    </tr>\n",
       "    <tr>\n",
       "      <th>Gender</th>\n",
       "      <td>Gender</td>\n",
       "      <td>0</td>\n",
       "      <td>247584</td>\n",
       "      <td>int64</td>\n",
       "      <td>3</td>\n",
       "      <td>[2, 1, 0]</td>\n",
       "    </tr>\n",
       "  </tbody>\n",
       "</table>\n",
       "</div>"
      ],
      "text/plain": [
       "                                       attribute  null_values  number_of_rows  \\\n",
       "Trip Duration                      Trip Duration            0          247584   \n",
       "Start Time                            Start Time            0          247584   \n",
       "Stop Time                              Stop Time            0          247584   \n",
       "Start Station ID                Start Station ID            0          247584   \n",
       "Start Station Name            Start Station Name            0          247584   \n",
       "Start Station Latitude    Start Station Latitude            0          247584   \n",
       "Start Station Longitude  Start Station Longitude            0          247584   \n",
       "End Station ID                    End Station ID            0          247584   \n",
       "End Station Name                End Station Name            0          247584   \n",
       "End Station Latitude        End Station Latitude            0          247584   \n",
       "End Station Longitude      End Station Longitude            0          247584   \n",
       "Bike ID                                  Bike ID            0          247584   \n",
       "User Type                              User Type          380          247584   \n",
       "Birth Year                            Birth Year        18999          247584   \n",
       "Gender                                    Gender            0          247584   \n",
       "\n",
       "                        data_type  unique_values  \\\n",
       "Trip Duration               int64           6024   \n",
       "Start Time                 object         244407   \n",
       "Stop Time                  object         244137   \n",
       "Start Station ID            int64             51   \n",
       "Start Station Name         object             51   \n",
       "Start Station Latitude    float64             51   \n",
       "Start Station Longitude   float64             51   \n",
       "End Station ID              int64            102   \n",
       "End Station Name           object            102   \n",
       "End Station Latitude      float64            102   \n",
       "End Station Longitude     float64            102   \n",
       "Bike ID                     int64            566   \n",
       "User Type                  object              2   \n",
       "Birth Year                float64             64   \n",
       "Gender                      int64              3   \n",
       "\n",
       "                                                             sample_values  \n",
       "Trip Duration                                    [362, 200, 202, 248, 903]  \n",
       "Start Time               [2016-01-01 00:02:52, 2016-01-01 00:18:22, 201...  \n",
       "Stop Time                [2016-01-01 00:08:54, 2016-01-01 00:21:42, 201...  \n",
       "Start Station ID                            [3186, 3209, 3195, 3211, 3187]  \n",
       "Start Station Name       [Grove St PATH, Brunswick St, Sip Ave, Newark ...  \n",
       "Start Station Latitude   [40.71958611647166, 40.7241765, 40.73074262530...  \n",
       "Start Station Longitude  [-74.04311746358871, -74.0506564, -74.06378388...  \n",
       "End Station ID                              [3209, 3213, 3203, 3210, 3214]  \n",
       "End Station Name         [Brunswick St, Van Vorst Park, Hamilton Park, ...  \n",
       "End Station Latitude     [40.7241765, 40.71848892, 40.727595966, 40.742...  \n",
       "End Station Longitude    [-74.0506564, -74.047726625, -74.044247311, -7...  \n",
       "Bike ID                                [24647, 24605, 24689, 24693, 24573]  \n",
       "User Type                                           [Subscriber, Customer]  \n",
       "Birth Year                        [1964.0, 1962.0, 1984.0, 1988.0, 1980.0]  \n",
       "Gender                                                           [2, 1, 0]  "
      ]
     },
     "execution_count": 4,
     "metadata": {},
     "output_type": "execute_result"
    }
   ],
   "source": [
    "description_df = pd.DataFrame({\n",
    "    \"attribute\": citibike_df.columns,\n",
    "    \"null_values\": citibike_df.isnull().sum(),\n",
    "    \"number_of_rows\": citibike_df.shape[0],\n",
    "    \"data_type\": citibike_df.dtypes,\n",
    "    \"unique_values\": citibike_df.nunique(),\n",
    "    \"sample_values\": [citibike_df[col].dropna().unique()[:5] for col in citibike_df.columns],\n",
    "        \n",
    "})\n",
    "\n",
    "description_df"
   ]
  },
  {
   "cell_type": "code",
   "execution_count": 5,
   "id": "4af1451b",
   "metadata": {},
   "outputs": [],
   "source": [
    "# Remove rows where 'User Type' is NaN\n",
    "citibike_df.dropna(subset=['User Type'], inplace=True)\n",
    "\n",
    "# Calculate the mean birth year \n",
    "mean_birth_year = int(citibike_df['Birth Year'].mean())\n",
    "\n",
    "# Fill NaN values in 'Birth Year' with the mean birth year\n",
    "citibike_df['Birth Year'] = citibike_df['Birth Year'].fillna(mean_birth_year)\n",
    "\n",
    "# Convert 'Trip Duration' from seconds to minutes and round to 2 decimal places\n",
    "citibike_df['Trip Duration Minutes'] = (citibike_df['Trip Duration'] / 60).round(2)\n",
    "\n",
    "# Map the genre values to more descriptive names\n",
    "citibike_df['Gender Name'] = citibike_df['Gender'].map({\n",
    "    0: 'Unknown',\n",
    "    1: 'Male',\n",
    "    2: 'Female'\n",
    "})"
   ]
  },
  {
   "cell_type": "code",
   "execution_count": 6,
   "id": "0cf16fd6",
   "metadata": {},
   "outputs": [
    {
     "data": {
      "text/plain": [
       "Index(['Trip Duration', 'Start Time', 'Stop Time', 'Start Station ID',\n",
       "       'Start Station Name', 'Start Station Latitude',\n",
       "       'Start Station Longitude', 'End Station ID', 'End Station Name',\n",
       "       'End Station Latitude', 'End Station Longitude', 'Bike ID', 'User Type',\n",
       "       'Birth Year', 'Gender', 'Trip Duration Minutes', 'Gender Name'],\n",
       "      dtype='object')"
      ]
     },
     "execution_count": 6,
     "metadata": {},
     "output_type": "execute_result"
    }
   ],
   "source": [
    "citibike_df.columns"
   ]
  },
  {
   "cell_type": "markdown",
   "id": "7277c888",
   "metadata": {},
   "source": [
    "# Create a DB schema structure - Denormalize"
   ]
  },
  {
   "cell_type": "code",
   "execution_count": 7,
   "id": "b1252085",
   "metadata": {},
   "outputs": [],
   "source": [
    "# Create a new column 'Trip Id' starting from 1\n",
    "citibike_df['Trip Id'] = [str(uuid.uuid4()) for _ in range(len(citibike_df))]"
   ]
  },
  {
   "cell_type": "markdown",
   "id": "4445bba7",
   "metadata": {},
   "source": [
    "## Extract Trips data"
   ]
  },
  {
   "cell_type": "code",
   "execution_count": 8,
   "id": "0d5143c1",
   "metadata": {},
   "outputs": [],
   "source": [
    "trips_df = citibike_df[['Trip Id', 'Start Time', 'Stop Time', 'Trip Duration Minutes', \n",
    "                        'Trip Duration','Start Station ID', 'End Station ID', \n",
    "                        'Bike ID', 'User Type', 'Birth Year','Gender']]"
   ]
  },
  {
   "cell_type": "markdown",
   "id": "9589bda3",
   "metadata": {},
   "source": [
    "## Extract stations data"
   ]
  },
  {
   "cell_type": "code",
   "execution_count": 9,
   "id": "d9efd567",
   "metadata": {},
   "outputs": [],
   "source": [
    "start_stations = citibike_df[['Start Station ID', 'Start Station Name', \n",
    "                              'Start Station Latitude', 'Start Station Longitude']]\n",
    "start_stations.columns = ['Station ID', 'Name', 'Latitude', 'Longitude']\n",
    "\n",
    "end_stations = citibike_df[['End Station ID', 'End Station Name', \n",
    "                            'End Station Latitude', 'End Station Longitude']]\n",
    "end_stations.columns = ['Station ID', 'Name', 'Latitude', 'Longitude']\n",
    "\n",
    "stations_df = pd.concat([start_stations, end_stations]).drop_duplicates('Station ID')"
   ]
  },
  {
   "cell_type": "markdown",
   "id": "2c0fc0c5",
   "metadata": {},
   "source": [
    "## Extract bikes data"
   ]
  },
  {
   "cell_type": "code",
   "execution_count": 10,
   "id": "3cfc810c",
   "metadata": {},
   "outputs": [],
   "source": [
    "bikes_df = citibike_df[['Bike ID']].drop_duplicates().sort_values(by='Bike ID').reset_index(drop=True)"
   ]
  },
  {
   "cell_type": "markdown",
   "id": "bbb64fa6",
   "metadata": {},
   "source": [
    "## Extract Genre data"
   ]
  },
  {
   "cell_type": "code",
   "execution_count": 11,
   "id": "5af1642d",
   "metadata": {},
   "outputs": [],
   "source": [
    "genre_df = citibike_df[['Gender', 'Gender Name']].drop_duplicates().sort_values(by='Gender').reset_index(drop=True)"
   ]
  },
  {
   "cell_type": "markdown",
   "id": "36cca57a",
   "metadata": {},
   "source": [
    "# 🛠️ Storing pandas DataFrames in PostgreSQL: Two Common Approaches\n",
    "\n",
    "When working with `pandas` DataFrames, there are two primary methods to transfer data into a PostgreSQL database:\n",
    "\n",
    "---\n",
    "\n",
    "## 📁 **Approach 1: Export to CSV and Import via pgAdmin (Manual Method)**\n",
    "\n",
    "Export a DataFrame to a `.csv` file and use **pgAdmin** to import it into a PostgreSQL table.\n",
    "\n",
    "### ✅ Pros:\n",
    "- Simple and beginner-friendly.\n",
    "- Ideal for small datasets or one-time tasks.\n",
    "\n",
    "### ❌ Cons:\n",
    "- Manual and not scalable.\n",
    "- Requires switching between Python and pgAdmin.\n",
    "- Limited control over data types and schema.\n",
    "\n",
    "---\n",
    "\n",
    "## 🔗 **Approach 2: Connect to PostgreSQL and Write Tables Using SQLAlchemy (Automated Method)**\n",
    "\n",
    "Use Python with the `SQLAlchemy` library to connect to PostgreSQL and write DataFrames directly to tables.\n",
    "\n",
    "### ✅ Pros:\n",
    "- Automated and scalable.\n",
    "- Full control over schema and data types.\n",
    "- Stays within Python, no tool-switching required.\n",
    "\n",
    "### ❌ Cons:\n",
    "- Requires setup (e.g., installing libraries, configuring connection).\n",
    "- Slightly more complex for beginners.\n",
    "\n",
    "---\n",
    "\n",
    "## 📊 **Summary Table**\n",
    "\n",
    "| **Feature**               | **Approach 1 (CSV + pgAdmin)** | **Approach 2 (SQLAlchemy)** |\n",
    "|---------------------------|--------------------------------|-----------------------------|\n",
    "| **Automation**            | Manual                        | Automated                  |\n",
    "| **Scalability**           | Low                           | High                       |\n",
    "| **Ease for Beginners**    | High                          | Moderate                   |\n",
    "| **Control Over Schema**   | Limited                       | Full                       |\n",
    "| **Tool Usage**            | Python + pgAdmin              | Python Only                |\n",
    "\n",
    "Choose **Approach 1** for quick, small-scale tasks or if you're new to databases. Use **Approach 2** for larger datasets, automation, or production workflows."
   ]
  },
  {
   "cell_type": "markdown",
   "id": "fcab9279",
   "metadata": {},
   "source": [
    "## Approach 1"
   ]
  },
  {
   "cell_type": "code",
   "execution_count": null,
   "id": "97b4f984",
   "metadata": {},
   "outputs": [],
   "source": []
  },
  {
   "cell_type": "markdown",
   "id": "0487b123",
   "metadata": {},
   "source": [
    "## Approach 2"
   ]
  },
  {
   "cell_type": "markdown",
   "id": "de9746c6",
   "metadata": {},
   "source": [
    "### Make the connection to the PostgreSQL instance"
   ]
  },
  {
   "cell_type": "code",
   "execution_count": null,
   "id": "a393786a",
   "metadata": {},
   "outputs": [],
   "source": [
    "# Import necessary libraries for database connection\n",
    "from sqlalchemy import create_engine\n",
    "from sqlalchemy import text\n",
    "\n",
    "username = 'postgres'\n",
    "password = '697597759'\n",
    "host = 'localhost'\n",
    "port = '5432'\n",
    "database = 'bikerentals'\n",
    "\n",
    "# SQLAlchemy engine creation\n",
    "engine = create_engine(f'postgresql+psycopg2://{username}:{password}@{host}:{port}/{database}')"
   ]
  },
  {
   "cell_type": "markdown",
   "id": "bba4e1c9",
   "metadata": {},
   "source": [
    "### Create a schema"
   ]
  },
  {
   "cell_type": "code",
   "execution_count": 20,
   "id": "7e14190b",
   "metadata": {},
   "outputs": [],
   "source": [
    "# Create the schema if it doesn't exist\n",
    "with engine.begin() as conn:  # begin() will auto-commit\n",
    "    conn.execute(text(\"CREATE SCHEMA IF NOT EXISTS bikes;\"))"
   ]
  },
  {
   "cell_type": "markdown",
   "id": "c52f663b",
   "metadata": {},
   "source": [
    "### Creating Tables from DataFrames"
   ]
  },
  {
   "cell_type": "markdown",
   "id": "673304b1",
   "metadata": {},
   "source": [
    "Let's create the stations table from the code"
   ]
  },
  {
   "cell_type": "code",
   "execution_count": 21,
   "id": "11f3e0f1",
   "metadata": {},
   "outputs": [
    {
     "data": {
      "text/plain": [
       "102"
      ]
     },
     "execution_count": 21,
     "metadata": {},
     "output_type": "execute_result"
    }
   ],
   "source": [
    "# Push DataFrame into the new schema\n",
    "stations_df.to_sql('stations', engine, schema='bikes', if_exists='replace', index=False)"
   ]
  },
  {
   "cell_type": "code",
   "execution_count": null,
   "id": "44404219",
   "metadata": {},
   "outputs": [
    {
     "name": "stdout",
     "output_type": "stream",
     "text": [
      "(3186, 'Grove St PATH', 40.71958611647166, -74.04311746358871)\n",
      "(3209, 'Brunswick St', 40.7241765, -74.0506564)\n",
      "(3195, 'Sip Ave', 40.73074262530658, -74.06378388404846)\n",
      "(3211, 'Newark Ave', 40.72152515, -74.046304543)\n",
      "(3187, 'Warren St', 40.7211236, -74.03805095)\n",
      "(3183, 'Exchange Place', 40.7162469, -74.0334588)\n",
      "(3213, 'Van Vorst Park', 40.71848892, -74.047726625)\n",
      "(3193, 'Lincoln Park', 40.7246050998869, -74.07840594649315)\n",
      "(3194, 'McGinley Square', 40.7253399253558, -74.06762212514877)\n",
      "(3202, 'Newport PATH', 40.7272235, -74.0337589)\n",
      "(3196, 'Riverview Park', 40.7443187, -74.0439909)\n",
      "(3214, 'Essex Light Rail', 40.7127742, -74.0364857)\n",
      "(3207, 'Oakland Ave', 40.7376037, -74.0524783)\n",
      "(3199, 'Newport Pkwy', 40.7287448, -74.0321082)\n",
      "(3203, 'Hamilton Park', 40.727595966, -74.044247311)\n",
      "(3210, 'Pershing Field', 40.742677141, -74.051788633)\n",
      "(3190, 'Garfield Ave Station', 40.7104670233797, -74.07003879547119)\n",
      "(3185, 'City Hall', 40.7177325, -74.043845)\n",
      "(3197, 'North St', 40.752559, -74.044725)\n",
      "(3192, 'Liberty Light Rail', 40.7112423, -74.0557013)\n",
      "(3212, 'Christ Hospital', 40.734785818, -74.050443636)\n",
      "(3225, 'Baldwin at Montgomery', 40.7236589, -74.0641943)\n",
      "(3215, 'Central Ave', 40.7467299, -74.0492509)\n",
      "(3206, 'Hilltop', 40.7311689, -74.0575736)\n",
      "(3184, 'Paulus Hook', 40.7141454, -74.0335519)\n",
      "(3205, 'JC Medical Center', 40.71653978099194, -74.0496379137039)\n",
      "(3198, 'Heights Elevator', 40.74871594538023, -74.04044330120087)\n",
      "(3220, '5 Corners Library', 40.73496102000952, -74.0595030784607)\n",
      "(3191, 'Union St', 40.7182113, -74.0836394)\n",
      "(3201, 'Dey St', 40.737711, -74.066921)\n",
      "(3217, 'Bayside Park', 40.698650544, -74.082079678)\n",
      "(3188, 'NJCU', 40.7101087, -74.0858489)\n",
      "(3200, 'MLK Light Rail', 40.7111305, -74.0788855)\n",
      "(3216, 'Columbia Park', 40.6970299, -74.0969366)\n",
      "(3189, 'West Side Light Rail', 40.714402, -74.0887723)\n",
      "(3270, 'Jersey & 6th St', 40.72528910781132, -74.04557168483734)\n",
      "(3267, 'Morris Canal', 40.7124188237569, -74.03852552175522)\n",
      "(3272, 'Jersey & 3rd', 40.72333158646436, -74.04595255851744)\n",
      "(3268, 'Lafayette Park', 40.71346382669195, -74.06285852193832)\n",
      "(3278, 'Monmouth and 6th', 40.72568548362901, -74.04879033565521)\n",
      "(3279, 'Dixon Mills', 40.721630142638354, -74.04996782541275)\n",
      "(3276, 'Marin Light Rail', 40.71458403535893, -74.04281705617905)\n",
      "(3273, 'Manila & 1st', 40.72165072487999, -74.04288411140442)\n",
      "(3275, 'Columbus Drive', 40.71835519823214, -74.03891444206238)\n",
      "(3274, 'Bethune Center', 40.704957516728605, -74.08593088388443)\n",
      "(3281, 'Leonard Gordon Park', 40.74590996631558, -74.0572714805603)\n",
      "(3271, 'Danforth Light Rail', 40.69263996618329, -74.08801227807997)\n",
      "(3269, 'Brunswick & 6th', 40.72601172964625, -74.05038893222809)\n",
      "(3280, 'Astor Place', 40.71928220070702, -74.07126188278198)\n",
      "(3426, 'JCBS Depot', 40.70965083364061, -74.06860113143921)\n",
      "(3277, 'Communipaw & Berry Lane', 40.71435836870427, -74.06661093235016)\n",
      "(534, 'Water - Whitehall Plaza', 40.70255065, -74.0127234)\n",
      "(249, 'Harrison St & Hudson St', 40.71870987, -74.0090009)\n",
      "(225, 'W 14 St & The High Line', 40.74195138, -74.00803013)\n",
      "(276, 'Duane St & Greenwich St', 40.71748752, -74.0104554)\n",
      "(403, 'E 2 St & 2 Ave', 40.72502876, -73.99069656)\n",
      "(295, 'Pike St & E Broadway', 40.71406667, -73.99293911)\n",
      "(430, 'York St & Jay St', 40.7014851, -73.98656928)\n",
      "(2008, 'Little West St & 1 Pl', 40.70569254, -74.01677685)\n",
      "(405, 'Washington St & Gansevoort St', 40.739323, -74.008119)\n",
      "(147, 'Greenwich St & Warren St', 40.71542197, -74.01121978)\n",
      "(3178, 'Riverside Dr & W 78 St', 40.78414472, -73.98362492)\n",
      "(173, 'Broadway & W 49 St', 40.76068327096592, -73.9845272898674)\n",
      "(252, 'MacDougal St & Washington Sq', 40.73226398, -73.99852205)\n",
      "(484, 'W 44 St & 5 Ave', 40.75500254, -73.98014437)\n",
      "(505, '6 Ave & W 33 St', 40.74901271, -73.98848395)\n",
      "(327, 'Vesey Pl & River Terrace', 40.7153379, -74.01658354)\n",
      "(363, 'West Thames St', 40.70834698, -74.01713445)\n",
      "(329, 'Greenwich St & North Moore St', 40.72015227023285, -74.01036500930786)\n",
      "(457, 'Broadway & W 58 St', 40.76695317, -73.98169333)\n",
      "(358, 'Christopher St & Greenwich St', 40.73291553, -74.00711384)\n",
      "(315, 'South St & Gouverneur Ln', 40.70355377, -74.00670227)\n",
      "(477, 'W 41 St & 8 Ave', 40.75640548, -73.9900262)\n",
      "(428, 'E 3 St & 1 Ave', 40.72467721, -73.98783413)\n",
      "(3002, 'South End Ave & Liberty St', 40.711512, -74.015756)\n",
      "(514, '12 Ave & W 40 St', 40.76087502, -74.00277668)\n",
      "(390, 'Duffield St & Willoughby St', 40.69221589, -73.9842844)\n",
      "(501, 'FDR Drive & E 35 St', 40.744219, -73.97121214)\n",
      "(351, 'Front St & Maiden Ln', 40.70530954, -74.00612572)\n",
      "(3265, 'E 2 St & 2 Ave E', 40.7245634290432, -73.9894437789917)\n",
      "(304, 'Broadway & Battery Pl', 40.70463334, -74.01361706)\n",
      "(284, 'Greenwich Ave & 8 Ave', 40.7390169121, -74.0026376103)\n",
      "(3314, 'W 95 St & Broadway', 40.7937704, -73.971888)\n",
      "(498, 'Broadway & W 32 St', 40.74854862, -73.98808416)\n",
      "(3169, 'Riverside Dr & W 82 St', 40.78720869, -73.98128127)\n",
      "(380, 'W 4 St & 7 Ave S', 40.73401143, -74.00293877)\n",
      "(3331, 'Riverside Dr & W 104 St', 40.8013434, -73.9711457439)\n",
      "(386, 'Centre St & Worth St', 40.71494807, -74.00234482)\n",
      "(427, 'Bus Slip & State St', 40.701907, -74.013942)\n",
      "(347, 'Greenwich St & W Houston St', 40.728846, -74.008591)\n",
      "(359, 'E 47 St & Park Ave', 40.75510267, -73.97498696)\n",
      "(426, 'West St & Chambers St', 40.71754834, -74.01322069)\n",
      "(3085, 'Roebling St & N 4 St', 40.71469, -73.95739)\n",
      "(360, 'William St & Pine St', 40.70717936, -74.00887308)\n",
      "(328, 'Watts St & Greenwich St', 40.72405549, -74.00965965)\n",
      "(446, 'W 24 St & 7 Ave', 40.74487634, -73.99529885)\n",
      "(520, 'W 52 St & 5 Ave', 40.75992262, -73.97648516)\n",
      "(2004, '6 Ave & Broome St', 40.724399, -74.004704)\n",
      "(393, 'E 5 St & Avenue C', 40.72299208, -73.97995466)\n",
      "(401, 'Allen St & Rivington St', 40.72019576, -73.98997825)\n",
      "(376, 'John St & William St', 40.70862144, -74.00722156)\n",
      "(224, 'Spruce St & Nassau St', 40.71146364, -74.00552427)\n"
     ]
    }
   ],
   "source": [
    "# Verify Table in Schema\n",
    "with engine.connect() as conn:\n",
    "    result = conn.execute(text(\"SELECT * FROM bikes.stations;\"))\n",
    "    for row in result:\n",
    "        print(row)"
   ]
  }
 ],
 "metadata": {
  "kernelspec": {
   "display_name": "base",
   "language": "python",
   "name": "python3"
  },
  "language_info": {
   "codemirror_mode": {
    "name": "ipython",
    "version": 3
   },
   "file_extension": ".py",
   "mimetype": "text/x-python",
   "name": "python",
   "nbconvert_exporter": "python",
   "pygments_lexer": "ipython3",
   "version": "3.10.13"
  }
 },
 "nbformat": 4,
 "nbformat_minor": 5
}
