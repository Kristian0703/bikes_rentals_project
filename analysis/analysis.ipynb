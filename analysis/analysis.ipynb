{
 "cells": [
  {
   "cell_type": "markdown",
   "id": "fc7a7e4f",
   "metadata": {},
   "source": [
    "# Explore & Clean the Data"
   ]
  },
  {
   "cell_type": "code",
   "execution_count": 21,
   "id": "2da3e364",
   "metadata": {},
   "outputs": [],
   "source": [
    "import glob \n",
    "import pandas as pd\n",
    "import uuid"
   ]
  },
  {
   "cell_type": "code",
   "execution_count": 2,
   "id": "a5a949fa",
   "metadata": {},
   "outputs": [],
   "source": [
    "# Get a list of all CSV files in the specified directory\n",
    "files = glob.glob(\"../data/JC-2016*.csv\")\n",
    "# Read all files and concatenate them into a single DataFrame\n",
    "df_list = list()\n",
    "# Loop through each file and read it into a DataFrame\n",
    "for file in files:\n",
    "    try:\n",
    "        temp_df = pd.read_csv(file)\n",
    "        df_list.append(temp_df)\n",
    "    except pd.errors.EmptyDataError:\n",
    "        print(f'File {file} is empty and will be skipped.')\n",
    "\n",
    "# Concatenate all DataFrames into a single DataFrame\n",
    "citibike_df = pd.concat(df_list, ignore_index=True)"
   ]
  },
  {
   "cell_type": "code",
   "execution_count": 3,
   "id": "a2158eea",
   "metadata": {},
   "outputs": [
    {
     "name": "stdout",
     "output_type": "stream",
     "text": [
      "Number of rows in the DataFrame: 247584\n",
      "Number of columns in the DataFrame: 15\n"
     ]
    }
   ],
   "source": [
    "print(f\"Number of rows in the DataFrame: {citibike_df.shape[0]}\\nNumber of columns in the DataFrame: {citibike_df.shape[1]}\")"
   ]
  },
  {
   "cell_type": "code",
   "execution_count": 4,
   "id": "769c4ef9",
   "metadata": {},
   "outputs": [
    {
     "data": {
      "application/vnd.microsoft.datawrangler.viewer.v0+json": {
       "columns": [
        {
         "name": "index",
         "rawType": "object",
         "type": "string"
        },
        {
         "name": "attribute",
         "rawType": "object",
         "type": "string"
        },
        {
         "name": "null_values",
         "rawType": "int64",
         "type": "integer"
        },
        {
         "name": "number_of_rows",
         "rawType": "int64",
         "type": "integer"
        },
        {
         "name": "data_type",
         "rawType": "object",
         "type": "unknown"
        },
        {
         "name": "unique_values",
         "rawType": "int64",
         "type": "integer"
        },
        {
         "name": "sample_values",
         "rawType": "object",
         "type": "unknown"
        }
       ],
       "ref": "7ec6acda-3d64-4aa2-b93b-f7c0e5102fbd",
       "rows": [
        [
         "Trip Duration",
         "Trip Duration",
         "0",
         "247584",
         "int64",
         "6024",
         "[362 200 202 248 903]"
        ],
        [
         "Start Time",
         "Start Time",
         "0",
         "247584",
         "object",
         "244407",
         "['2016-01-01 00:02:52' '2016-01-01 00:18:22' '2016-01-01 00:18:25'\n '2016-01-01 00:23:13' '2016-01-01 01:03:20']"
        ],
        [
         "Stop Time",
         "Stop Time",
         "0",
         "247584",
         "object",
         "244137",
         "['2016-01-01 00:08:54' '2016-01-01 00:21:42' '2016-01-01 00:21:47'\n '2016-01-01 00:27:21' '2016-01-01 01:18:24']"
        ],
        [
         "Start Station ID",
         "Start Station ID",
         "0",
         "247584",
         "int64",
         "51",
         "[3186 3209 3195 3211 3187]"
        ],
        [
         "Start Station Name",
         "Start Station Name",
         "0",
         "247584",
         "object",
         "51",
         "['Grove St PATH' 'Brunswick St' 'Sip Ave' 'Newark Ave' 'Warren St']"
        ],
        [
         "Start Station Latitude",
         "Start Station Latitude",
         "0",
         "247584",
         "float64",
         "51",
         "[40.71958612 40.7241765  40.73074263 40.72152515 40.7211236 ]"
        ],
        [
         "Start Station Longitude",
         "Start Station Longitude",
         "0",
         "247584",
         "float64",
         "51",
         "[-74.04311746 -74.0506564  -74.06378388 -74.04630454 -74.03805095]"
        ],
        [
         "End Station ID",
         "End Station ID",
         "0",
         "247584",
         "int64",
         "102",
         "[3209 3213 3203 3210 3214]"
        ],
        [
         "End Station Name",
         "End Station Name",
         "0",
         "247584",
         "object",
         "102",
         "['Brunswick St' 'Van Vorst Park' 'Hamilton Park' 'Pershing Field'\n 'Essex Light Rail']"
        ],
        [
         "End Station Latitude",
         "End Station Latitude",
         "0",
         "247584",
         "float64",
         "102",
         "[40.7241765  40.71848892 40.72759597 40.74267714 40.7127742 ]"
        ],
        [
         "End Station Longitude",
         "End Station Longitude",
         "0",
         "247584",
         "float64",
         "102",
         "[-74.0506564  -74.04772662 -74.04424731 -74.05178863 -74.0364857 ]"
        ],
        [
         "Bike ID",
         "Bike ID",
         "0",
         "247584",
         "int64",
         "566",
         "[24647 24605 24689 24693 24573]"
        ],
        [
         "User Type",
         "User Type",
         "380",
         "247584",
         "object",
         "2",
         "['Subscriber' 'Customer']"
        ],
        [
         "Birth Year",
         "Birth Year",
         "18999",
         "247584",
         "float64",
         "64",
         "[1964. 1962. 1984. 1988. 1980.]"
        ],
        [
         "Gender",
         "Gender",
         "0",
         "247584",
         "int64",
         "3",
         "[2 1 0]"
        ]
       ],
       "shape": {
        "columns": 6,
        "rows": 15
       }
      },
      "text/html": [
       "<div>\n",
       "<style scoped>\n",
       "    .dataframe tbody tr th:only-of-type {\n",
       "        vertical-align: middle;\n",
       "    }\n",
       "\n",
       "    .dataframe tbody tr th {\n",
       "        vertical-align: top;\n",
       "    }\n",
       "\n",
       "    .dataframe thead th {\n",
       "        text-align: right;\n",
       "    }\n",
       "</style>\n",
       "<table border=\"1\" class=\"dataframe\">\n",
       "  <thead>\n",
       "    <tr style=\"text-align: right;\">\n",
       "      <th></th>\n",
       "      <th>attribute</th>\n",
       "      <th>null_values</th>\n",
       "      <th>number_of_rows</th>\n",
       "      <th>data_type</th>\n",
       "      <th>unique_values</th>\n",
       "      <th>sample_values</th>\n",
       "    </tr>\n",
       "  </thead>\n",
       "  <tbody>\n",
       "    <tr>\n",
       "      <th>Trip Duration</th>\n",
       "      <td>Trip Duration</td>\n",
       "      <td>0</td>\n",
       "      <td>247584</td>\n",
       "      <td>int64</td>\n",
       "      <td>6024</td>\n",
       "      <td>[362, 200, 202, 248, 903]</td>\n",
       "    </tr>\n",
       "    <tr>\n",
       "      <th>Start Time</th>\n",
       "      <td>Start Time</td>\n",
       "      <td>0</td>\n",
       "      <td>247584</td>\n",
       "      <td>object</td>\n",
       "      <td>244407</td>\n",
       "      <td>[2016-01-01 00:02:52, 2016-01-01 00:18:22, 201...</td>\n",
       "    </tr>\n",
       "    <tr>\n",
       "      <th>Stop Time</th>\n",
       "      <td>Stop Time</td>\n",
       "      <td>0</td>\n",
       "      <td>247584</td>\n",
       "      <td>object</td>\n",
       "      <td>244137</td>\n",
       "      <td>[2016-01-01 00:08:54, 2016-01-01 00:21:42, 201...</td>\n",
       "    </tr>\n",
       "    <tr>\n",
       "      <th>Start Station ID</th>\n",
       "      <td>Start Station ID</td>\n",
       "      <td>0</td>\n",
       "      <td>247584</td>\n",
       "      <td>int64</td>\n",
       "      <td>51</td>\n",
       "      <td>[3186, 3209, 3195, 3211, 3187]</td>\n",
       "    </tr>\n",
       "    <tr>\n",
       "      <th>Start Station Name</th>\n",
       "      <td>Start Station Name</td>\n",
       "      <td>0</td>\n",
       "      <td>247584</td>\n",
       "      <td>object</td>\n",
       "      <td>51</td>\n",
       "      <td>[Grove St PATH, Brunswick St, Sip Ave, Newark ...</td>\n",
       "    </tr>\n",
       "    <tr>\n",
       "      <th>Start Station Latitude</th>\n",
       "      <td>Start Station Latitude</td>\n",
       "      <td>0</td>\n",
       "      <td>247584</td>\n",
       "      <td>float64</td>\n",
       "      <td>51</td>\n",
       "      <td>[40.71958611647166, 40.7241765, 40.73074262530...</td>\n",
       "    </tr>\n",
       "    <tr>\n",
       "      <th>Start Station Longitude</th>\n",
       "      <td>Start Station Longitude</td>\n",
       "      <td>0</td>\n",
       "      <td>247584</td>\n",
       "      <td>float64</td>\n",
       "      <td>51</td>\n",
       "      <td>[-74.04311746358871, -74.0506564, -74.06378388...</td>\n",
       "    </tr>\n",
       "    <tr>\n",
       "      <th>End Station ID</th>\n",
       "      <td>End Station ID</td>\n",
       "      <td>0</td>\n",
       "      <td>247584</td>\n",
       "      <td>int64</td>\n",
       "      <td>102</td>\n",
       "      <td>[3209, 3213, 3203, 3210, 3214]</td>\n",
       "    </tr>\n",
       "    <tr>\n",
       "      <th>End Station Name</th>\n",
       "      <td>End Station Name</td>\n",
       "      <td>0</td>\n",
       "      <td>247584</td>\n",
       "      <td>object</td>\n",
       "      <td>102</td>\n",
       "      <td>[Brunswick St, Van Vorst Park, Hamilton Park, ...</td>\n",
       "    </tr>\n",
       "    <tr>\n",
       "      <th>End Station Latitude</th>\n",
       "      <td>End Station Latitude</td>\n",
       "      <td>0</td>\n",
       "      <td>247584</td>\n",
       "      <td>float64</td>\n",
       "      <td>102</td>\n",
       "      <td>[40.7241765, 40.71848892, 40.727595966, 40.742...</td>\n",
       "    </tr>\n",
       "    <tr>\n",
       "      <th>End Station Longitude</th>\n",
       "      <td>End Station Longitude</td>\n",
       "      <td>0</td>\n",
       "      <td>247584</td>\n",
       "      <td>float64</td>\n",
       "      <td>102</td>\n",
       "      <td>[-74.0506564, -74.047726625, -74.044247311, -7...</td>\n",
       "    </tr>\n",
       "    <tr>\n",
       "      <th>Bike ID</th>\n",
       "      <td>Bike ID</td>\n",
       "      <td>0</td>\n",
       "      <td>247584</td>\n",
       "      <td>int64</td>\n",
       "      <td>566</td>\n",
       "      <td>[24647, 24605, 24689, 24693, 24573]</td>\n",
       "    </tr>\n",
       "    <tr>\n",
       "      <th>User Type</th>\n",
       "      <td>User Type</td>\n",
       "      <td>380</td>\n",
       "      <td>247584</td>\n",
       "      <td>object</td>\n",
       "      <td>2</td>\n",
       "      <td>[Subscriber, Customer]</td>\n",
       "    </tr>\n",
       "    <tr>\n",
       "      <th>Birth Year</th>\n",
       "      <td>Birth Year</td>\n",
       "      <td>18999</td>\n",
       "      <td>247584</td>\n",
       "      <td>float64</td>\n",
       "      <td>64</td>\n",
       "      <td>[1964.0, 1962.0, 1984.0, 1988.0, 1980.0]</td>\n",
       "    </tr>\n",
       "    <tr>\n",
       "      <th>Gender</th>\n",
       "      <td>Gender</td>\n",
       "      <td>0</td>\n",
       "      <td>247584</td>\n",
       "      <td>int64</td>\n",
       "      <td>3</td>\n",
       "      <td>[2, 1, 0]</td>\n",
       "    </tr>\n",
       "  </tbody>\n",
       "</table>\n",
       "</div>"
      ],
      "text/plain": [
       "                                       attribute  null_values  number_of_rows  \\\n",
       "Trip Duration                      Trip Duration            0          247584   \n",
       "Start Time                            Start Time            0          247584   \n",
       "Stop Time                              Stop Time            0          247584   \n",
       "Start Station ID                Start Station ID            0          247584   \n",
       "Start Station Name            Start Station Name            0          247584   \n",
       "Start Station Latitude    Start Station Latitude            0          247584   \n",
       "Start Station Longitude  Start Station Longitude            0          247584   \n",
       "End Station ID                    End Station ID            0          247584   \n",
       "End Station Name                End Station Name            0          247584   \n",
       "End Station Latitude        End Station Latitude            0          247584   \n",
       "End Station Longitude      End Station Longitude            0          247584   \n",
       "Bike ID                                  Bike ID            0          247584   \n",
       "User Type                              User Type          380          247584   \n",
       "Birth Year                            Birth Year        18999          247584   \n",
       "Gender                                    Gender            0          247584   \n",
       "\n",
       "                        data_type  unique_values  \\\n",
       "Trip Duration               int64           6024   \n",
       "Start Time                 object         244407   \n",
       "Stop Time                  object         244137   \n",
       "Start Station ID            int64             51   \n",
       "Start Station Name         object             51   \n",
       "Start Station Latitude    float64             51   \n",
       "Start Station Longitude   float64             51   \n",
       "End Station ID              int64            102   \n",
       "End Station Name           object            102   \n",
       "End Station Latitude      float64            102   \n",
       "End Station Longitude     float64            102   \n",
       "Bike ID                     int64            566   \n",
       "User Type                  object              2   \n",
       "Birth Year                float64             64   \n",
       "Gender                      int64              3   \n",
       "\n",
       "                                                             sample_values  \n",
       "Trip Duration                                    [362, 200, 202, 248, 903]  \n",
       "Start Time               [2016-01-01 00:02:52, 2016-01-01 00:18:22, 201...  \n",
       "Stop Time                [2016-01-01 00:08:54, 2016-01-01 00:21:42, 201...  \n",
       "Start Station ID                            [3186, 3209, 3195, 3211, 3187]  \n",
       "Start Station Name       [Grove St PATH, Brunswick St, Sip Ave, Newark ...  \n",
       "Start Station Latitude   [40.71958611647166, 40.7241765, 40.73074262530...  \n",
       "Start Station Longitude  [-74.04311746358871, -74.0506564, -74.06378388...  \n",
       "End Station ID                              [3209, 3213, 3203, 3210, 3214]  \n",
       "End Station Name         [Brunswick St, Van Vorst Park, Hamilton Park, ...  \n",
       "End Station Latitude     [40.7241765, 40.71848892, 40.727595966, 40.742...  \n",
       "End Station Longitude    [-74.0506564, -74.047726625, -74.044247311, -7...  \n",
       "Bike ID                                [24647, 24605, 24689, 24693, 24573]  \n",
       "User Type                                           [Subscriber, Customer]  \n",
       "Birth Year                        [1964.0, 1962.0, 1984.0, 1988.0, 1980.0]  \n",
       "Gender                                                           [2, 1, 0]  "
      ]
     },
     "execution_count": 4,
     "metadata": {},
     "output_type": "execute_result"
    }
   ],
   "source": [
    "description_df = pd.DataFrame({\n",
    "    \"attribute\": citibike_df.columns,\n",
    "    \"null_values\": citibike_df.isnull().sum(),\n",
    "    \"number_of_rows\": citibike_df.shape[0],\n",
    "    \"data_type\": citibike_df.dtypes,\n",
    "    \"unique_values\": citibike_df.nunique(),\n",
    "    \"sample_values\": [citibike_df[col].dropna().unique()[:5] for col in citibike_df.columns],\n",
    "        \n",
    "})\n",
    "\n",
    "description_df"
   ]
  },
  {
   "cell_type": "code",
   "execution_count": null,
   "id": "4af1451b",
   "metadata": {},
   "outputs": [],
   "source": [
    "# Remove rows where 'User Type' is NaN\n",
    "citibike_df.dropna(subset=['User Type'], inplace=True)\n",
    "\n",
    "# Calculate the mean birth year \n",
    "mean_birth_year = int(citibike_df['Birth Year'].mean())\n",
    "\n",
    "# Fill NaN values in 'Birth Year' with the mean birth year\n",
    "citibike_df['Birth Year'] = citibike_df['Birth Year'].fillna(mean_birth_year)\n",
    "\n",
    "# Convert 'Trip Duration' from seconds to minutes and round to 2 decimal places\n",
    "citibike_df['Trip Duration Minutes'] = (citibike_df['Trip Duration'] / 60).round(2)\n",
    "\n",
    "# Map the genre values to more descriptive names\n",
    "citibike_df['Gender Name'] = citibike_df['Gender'].map({\n",
    "    0: 'Unknown',\n",
    "    1: 'Male',\n",
    "    2: 'Female'\n",
    "})"
   ]
  },
  {
   "cell_type": "code",
   "execution_count": 14,
   "id": "0cf16fd6",
   "metadata": {},
   "outputs": [
    {
     "data": {
      "text/plain": [
       "Index(['Trip Duration', 'Start Time', 'Stop Time', 'Start Station ID',\n",
       "       'Start Station Name', 'Start Station Latitude',\n",
       "       'Start Station Longitude', 'End Station ID', 'End Station Name',\n",
       "       'End Station Latitude', 'End Station Longitude', 'Bike ID', 'User Type',\n",
       "       'Birth Year', 'Gender', 'Trip Duration Minutes', 'Gender Name'],\n",
       "      dtype='object')"
      ]
     },
     "execution_count": 14,
     "metadata": {},
     "output_type": "execute_result"
    }
   ],
   "source": [
    "citibike_df.columns"
   ]
  },
  {
   "cell_type": "markdown",
   "id": "7277c888",
   "metadata": {},
   "source": [
    "# Create a DB schema structure - Denormalize"
   ]
  },
  {
   "cell_type": "code",
   "execution_count": 22,
   "id": "b1252085",
   "metadata": {},
   "outputs": [],
   "source": [
    "# Create a new column 'Trip Id' starting from 1\n",
    "citibike_df['Trip Id'] = [str(uuid.uuid4()) for _ in range(len(citibike_df))]"
   ]
  },
  {
   "cell_type": "markdown",
   "id": "4445bba7",
   "metadata": {},
   "source": [
    "## Extract Trips data"
   ]
  },
  {
   "cell_type": "code",
   "execution_count": 26,
   "id": "0d5143c1",
   "metadata": {},
   "outputs": [],
   "source": [
    "trips_df = citibike_df[['Trip Id', 'Start Time', 'Stop Time', 'Trip Duration Minutes', \n",
    "                        'Trip Duration','Start Station ID', 'End Station ID', \n",
    "                        'Bike ID', 'User Type', 'Birth Year','Gender']]"
   ]
  },
  {
   "cell_type": "markdown",
   "id": "9589bda3",
   "metadata": {},
   "source": [
    "## Extract stations data"
   ]
  },
  {
   "cell_type": "code",
   "execution_count": null,
   "id": "d9efd567",
   "metadata": {},
   "outputs": [],
   "source": [
    "start_stations = citibike_df[['Start Station ID', 'Start Station Name', \n",
    "                              'Start Station Latitude', 'Start Station Longitude']]\n",
    "start_stations.columns = ['Station ID', 'Name', 'Latitude', 'Longitude']\n",
    "\n",
    "end_stations = citibike_df[['End Station ID', 'End Station Name', \n",
    "                            'End Station Latitude', 'End Station Longitude']]\n",
    "end_stations.columns = ['Station ID', 'Name', 'Latitude', 'Longitude']\n",
    "\n",
    "stations_df = pd.concat([start_stations, end_stations]).drop_duplicates('Station ID')"
   ]
  },
  {
   "cell_type": "markdown",
   "id": "2c0fc0c5",
   "metadata": {},
   "source": [
    "## Extract bikes data"
   ]
  },
  {
   "cell_type": "code",
   "execution_count": 33,
   "id": "3cfc810c",
   "metadata": {},
   "outputs": [],
   "source": [
    "bikes_df = citibike_df[['Bike ID']].drop_duplicates().sort_values(by='Bike ID').reset_index(drop=True)"
   ]
  },
  {
   "cell_type": "markdown",
   "id": "bbb64fa6",
   "metadata": {},
   "source": [
    "## Extract Genre data"
   ]
  },
  {
   "cell_type": "code",
   "execution_count": 38,
   "id": "5af1642d",
   "metadata": {},
   "outputs": [],
   "source": [
    "genre_df = citibike_df[['Gender', 'Gender Name']].drop_duplicates().sort_values(by='Gender').reset_index(drop=True)"
   ]
  }
 ],
 "metadata": {
  "kernelspec": {
   "display_name": "base",
   "language": "python",
   "name": "python3"
  },
  "language_info": {
   "codemirror_mode": {
    "name": "ipython",
    "version": 3
   },
   "file_extension": ".py",
   "mimetype": "text/x-python",
   "name": "python",
   "nbconvert_exporter": "python",
   "pygments_lexer": "ipython3",
   "version": "3.10.13"
  }
 },
 "nbformat": 4,
 "nbformat_minor": 5
}
